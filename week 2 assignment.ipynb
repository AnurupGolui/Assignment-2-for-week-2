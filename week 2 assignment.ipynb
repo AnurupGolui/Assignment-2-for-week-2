{
 "cells": [
  {
   "cell_type": "code",
   "execution_count": 1,
   "id": "ebd4087f-bdf1-494d-818c-2679c21bf703",
   "metadata": {},
   "outputs": [],
   "source": [
    "#Q1. How do you comment code in Python? What are the different types of comments?"
   ]
  },
  {
   "cell_type": "code",
   "execution_count": null,
   "id": "2758e6da-3968-425b-87df-342a1f0e1b0f",
   "metadata": {},
   "outputs": [],
   "source": [
    "ans: To comment code in python we use either'#' character for single line or use (''') for multiple line.\n",
    "There are two types of comment. 1. single line comment where we use '#' character\n",
    "                                2. multiple line comment where we use (''')"
   ]
  },
  {
   "cell_type": "code",
   "execution_count": 4,
   "id": "80dd9de9-4df5-46d2-8ba6-19f19469ab52",
   "metadata": {},
   "outputs": [],
   "source": [
    " #Q2. What are variables in Python? How do you declare and assign values to variables?"
   ]
  },
  {
   "cell_type": "code",
   "execution_count": null,
   "id": "f03c9dfa-538f-4bbe-bcb9-d790a400b3a3",
   "metadata": {},
   "outputs": [],
   "source": [
    "'''ans: A variable is a string of characters and numbers associated with a piece of information. \n",
    "The assignment operator, denoted by the “=” symbol, is the operator that is used to assign values to variables in Python.\n",
    "The line x=1 takes the knownvalue, 1, and assigns that value to the variable with name “x”.''' \n"
   ]
  },
  {
   "cell_type": "code",
   "execution_count": 11,
   "id": "5fa39e01-4c85-4913-af43-7144d5530dc1",
   "metadata": {},
   "outputs": [],
   "source": [
    "#Q3. How do you convert one data type to another in Python?"
   ]
  },
  {
   "cell_type": "code",
   "execution_count": null,
   "id": "bc9d4810-dac0-4cca-b612-bba5e27e3b91",
   "metadata": {},
   "outputs": [],
   "source": [
    "ans:  To convert between types, we simply use the type name as a function.\n",
    "''' example ,\n",
    "              x='56' we know it's a string. \n",
    "              To convert it into int , we do \n",
    "              x=int(x) now it converted into integer'''"
   ]
  },
  {
   "cell_type": "code",
   "execution_count": 15,
   "id": "d7105680-2c44-40a2-b371-0de5bed507fa",
   "metadata": {},
   "outputs": [
    {
     "name": "stdout",
     "output_type": "stream",
     "text": [
      "<class 'str'>\n",
      "<class 'int'>\n"
     ]
    }
   ],
   "source": [
    "#example of Q3\n",
    "x='56'\n",
    "print(type (x))\n",
    "x=int(x)\n",
    "print(type(x))"
   ]
  },
  {
   "cell_type": "code",
   "execution_count": 16,
   "id": "bc50ca96-5d6a-4847-978c-7e5e22088d99",
   "metadata": {},
   "outputs": [],
   "source": [
    "#Q4. How do you write and execute a Python script from the command line?"
   ]
  },
  {
   "cell_type": "code",
   "execution_count": 17,
   "id": "4b74f099-31d9-4525-bea2-86c38c37b6f2",
   "metadata": {},
   "outputs": [],
   "source": [
    "ans: There are various tool we use to write python script like 1.VS Code 2.Jupyter Notebook 3. PyCharm etc.\n",
    "To execute a python script we use 'shift'+'enter' key"
   ]
  },
  {
   "cell_type": "code",
   "execution_count": 18,
   "id": "d2210a47-fc62-4701-a85b-276cfc04c3fa",
   "metadata": {},
   "outputs": [],
   "source": [
    "#Q5. Given a list my_list = [1, 2, 3, 4, 5], write the code to slice the list and obtain the sub-list [2, 3]."
   ]
  },
  {
   "cell_type": "code",
   "execution_count": 21,
   "id": "b1679842-e1be-4a6e-bc55-0069197f1a99",
   "metadata": {},
   "outputs": [
    {
     "name": "stdout",
     "output_type": "stream",
     "text": [
      "[2, 3]\n"
     ]
    }
   ],
   "source": [
    "#ans:\n",
    "my_list=[1,2,3,4,5]\n",
    "sub_list= my_list[1:3]\n",
    "print (sub_list)"
   ]
  },
  {
   "cell_type": "code",
   "execution_count": 22,
   "id": "ffdbd5c6-e542-4411-97e8-f69df6512e84",
   "metadata": {},
   "outputs": [],
   "source": [
    "#Q6. What is a complex number in mathematics, and how is it represented in Python?"
   ]
  },
  {
   "cell_type": "code",
   "execution_count": null,
   "id": "c953fd07-e4ec-4a59-bc97-daf920da2f83",
   "metadata": {},
   "outputs": [],
   "source": [
    "#ans:\n",
    "'''Complex numbers are the numbers that are expressed in the form of a+ib where, a,b are real numbers and 'i' is an imaginary\n",
    "number called “iota”. The value of i = (√-1).\n",
    "In python it is written in the form of (x + yj) where x and y are real numbers and j is an imaginary number\n",
    "which is the square root of -1.'''"
   ]
  },
  {
   "cell_type": "code",
   "execution_count": 23,
   "id": "d87e1897-6423-4323-b527-7c4faa923453",
   "metadata": {},
   "outputs": [],
   "source": [
    "#Q7. What is the correct way to declare a variable named age and assign the value 25 to it?"
   ]
  },
  {
   "cell_type": "code",
   "execution_count": 30,
   "id": "35478349-6b79-49ed-8f91-bb0d1ce7d562",
   "metadata": {},
   "outputs": [
    {
     "name": "stdout",
     "output_type": "stream",
     "text": [
      "Here the variable name is 'age' and the value of it is '25'. By execute the variable we get age= 25\n"
     ]
    }
   ],
   "source": [
    "#ans:\n",
    "age=25\n",
    "print(\"Here the variable name is 'age' and the value of it is '25'. By execute the variable we get age=\", age)"
   ]
  },
  {
   "cell_type": "code",
   "execution_count": 27,
   "id": "642b2fe2-52f1-42b4-bcd1-1577ad505f3c",
   "metadata": {},
   "outputs": [],
   "source": [
    "#Q8. Declare a variable named price and assign the value 9.99 to it. What data type does this variable belong to?"
   ]
  },
  {
   "cell_type": "code",
   "execution_count": 29,
   "id": "bb661afd-bfc4-4d1e-9bc9-255fbf4b3677",
   "metadata": {},
   "outputs": [
    {
     "name": "stdout",
     "output_type": "stream",
     "text": [
      "The data type of this variable is belongs to <class 'float'>\n"
     ]
    }
   ],
   "source": [
    "#ans:\n",
    "price=9.99 # this variable belongs to float\n",
    "print('The data type of this variable is belongs to',type(price))\n"
   ]
  },
  {
   "cell_type": "code",
   "execution_count": 31,
   "id": "97f7febb-1e50-4105-a847-cfa0c2010ffc",
   "metadata": {},
   "outputs": [],
   "source": [
    "#Q9. Create a variable named name and assign your full name to it as a string. How would you print the value of this variable?"
   ]
  },
  {
   "cell_type": "code",
   "execution_count": 33,
   "id": "2ca74bb5-88db-4a25-a578-a76f7a6f677c",
   "metadata": {},
   "outputs": [
    {
     "name": "stdout",
     "output_type": "stream",
     "text": [
      "Anurup Golui\n"
     ]
    }
   ],
   "source": [
    "#ans:\n",
    "name=\"Anurup Golui\"\n",
    "print(name)"
   ]
  },
  {
   "cell_type": "code",
   "execution_count": 34,
   "id": "a37e65b8-9f39-47a7-91eb-5dfb31780612",
   "metadata": {},
   "outputs": [],
   "source": [
    "#Q10. Given the string \"Hello, World!\", extract the substring \"World\"."
   ]
  },
  {
   "cell_type": "code",
   "execution_count": 3,
   "id": "52d60be6-390b-45b7-a881-62d8163b3da6",
   "metadata": {},
   "outputs": [
    {
     "data": {
      "text/plain": [
       "'World'"
      ]
     },
     "execution_count": 3,
     "metadata": {},
     "output_type": "execute_result"
    }
   ],
   "source": [
    "#ans:\n",
    "var=\"Hello, World!\"\n",
    "var[7:12]"
   ]
  },
  {
   "cell_type": "code",
   "execution_count": null,
   "id": "7c04d3fd-a31b-4b0a-b3b3-7818fb112192",
   "metadata": {},
   "outputs": [],
   "source": [
    "Q11. Create a variable named \"is_student\" and assign it a boolean value indicating whether you are currently a student or not."
   ]
  },
  {
   "cell_type": "code",
   "execution_count": 4,
   "id": "79b2e089-506e-48df-99de-da6d3e8215ee",
   "metadata": {},
   "outputs": [
    {
     "data": {
      "text/plain": [
       "True"
      ]
     },
     "execution_count": 4,
     "metadata": {},
     "output_type": "execute_result"
    }
   ],
   "source": [
    "is_student= True\n",
    "is_student\n"
   ]
  },
  {
   "cell_type": "code",
   "execution_count": null,
   "id": "956f01eb-212c-49f1-b8e9-3e4ed382c789",
   "metadata": {},
   "outputs": [],
   "source": []
  }
 ],
 "metadata": {
  "kernelspec": {
   "display_name": "Python 3 (ipykernel)",
   "language": "python",
   "name": "python3"
  },
  "language_info": {
   "codemirror_mode": {
    "name": "ipython",
    "version": 3
   },
   "file_extension": ".py",
   "mimetype": "text/x-python",
   "name": "python",
   "nbconvert_exporter": "python",
   "pygments_lexer": "ipython3",
   "version": "3.10.8"
  }
 },
 "nbformat": 4,
 "nbformat_minor": 5
}
